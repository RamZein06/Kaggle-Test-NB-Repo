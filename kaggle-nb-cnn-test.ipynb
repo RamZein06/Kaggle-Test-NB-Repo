{
 "cells": [
  {
   "cell_type": "markdown",
   "id": "c981eae4",
   "metadata": {
    "papermill": {
     "duration": 0.002172,
     "end_time": "2023-10-15T15:19:32.538980",
     "exception": false,
     "start_time": "2023-10-15T15:19:32.536808",
     "status": "completed"
    },
    "tags": []
   },
   "source": [
    "# **Convulotional Neural Networks**"
   ]
  },
  {
   "cell_type": "markdown",
   "id": "c36cff5e",
   "metadata": {
    "papermill": {
     "duration": 0.001598,
     "end_time": "2023-10-15T15:19:32.542523",
     "exception": false,
     "start_time": "2023-10-15T15:19:32.540925",
     "status": "completed"
    },
    "tags": []
   },
   "source": [
    "The following code are inspired from\n",
    "\"Image Preparation for Convolutional Neural Networks with TensorFlow's Keras API\" video by deeplizard"
   ]
  },
  {
   "cell_type": "code",
   "execution_count": 1,
   "id": "e2acc6b3",
   "metadata": {
    "execution": {
     "iopub.execute_input": "2023-10-15T15:19:32.547529Z",
     "iopub.status.busy": "2023-10-15T15:19:32.546999Z",
     "iopub.status.idle": "2023-10-15T15:19:41.814947Z",
     "shell.execute_reply": "2023-10-15T15:19:41.814071Z"
    },
    "papermill": {
     "duration": 9.272801,
     "end_time": "2023-10-15T15:19:41.817046",
     "exception": false,
     "start_time": "2023-10-15T15:19:32.544245",
     "status": "completed"
    },
    "tags": []
   },
   "outputs": [
    {
     "name": "stderr",
     "output_type": "stream",
     "text": [
      "/opt/conda/lib/python3.10/site-packages/scipy/__init__.py:146: UserWarning: A NumPy version >=1.16.5 and <1.23.0 is required for this version of SciPy (detected version 1.23.5\n",
      "  warnings.warn(f\"A NumPy version >={np_minversion} and <{np_maxversion}\"\n"
     ]
    }
   ],
   "source": [
    "import numpy as np\n",
    "import tensorflow as tf\n",
    "from tensorflow import keras\n",
    "from tensorflow.keras.models import Sequential\n",
    "from tensorflow.keras.layers import Activation, Dense, Flatten, BatchNormalization, Conv2D, MaxPooling2D\n",
    "from tensorflow.keras.optimizers import Adam\n",
    "from tensorflow.keras.metrics import categorical_crossentropy\n",
    "from tensorflow.keras.preprocessing.image import ImageDataGenerator\n",
    "from sklearn.metrics import confusion_matrix\n",
    "import itertools\n",
    "import os\n",
    "import shutil\n",
    "import random\n",
    "import glob\n",
    "import matplotlib.pyplot as plt\n",
    "import warnings\n",
    "warnings.simplefilter (action='ignore', category=FutureWarning)\n",
    "%matplotlib inline"
   ]
  },
  {
   "cell_type": "code",
   "execution_count": 2,
   "id": "b73fe0e7",
   "metadata": {
    "execution": {
     "iopub.execute_input": "2023-10-15T15:19:41.823145Z",
     "iopub.status.busy": "2023-10-15T15:19:41.822016Z",
     "iopub.status.idle": "2023-10-15T15:19:42.267578Z",
     "shell.execute_reply": "2023-10-15T15:19:42.266229Z"
    },
    "papermill": {
     "duration": 0.450206,
     "end_time": "2023-10-15T15:19:42.269353",
     "exception": false,
     "start_time": "2023-10-15T15:19:41.819147",
     "status": "completed"
    },
    "tags": []
   },
   "outputs": [
    {
     "name": "stdout",
     "output_type": "stream",
     "text": [
      "Num GPUs Available:  1\n"
     ]
    }
   ],
   "source": [
    "# Check for available GPUs and set memory growth for the first GPU\n",
    "\n",
    "# List all available physical devices (including GPUs)\n",
    "physical_devices = tf.config.experimental.list_physical_devices('GPU')\n",
    "\n",
    "# Print the number of available GPUs\n",
    "print(\"Num GPUs Available: \", len(physical_devices))\n",
    "\n",
    "# Set memory growth for the first GPU (assuming at least one GPU is available)\n",
    "tf.config.experimental.set_memory_growth(physical_devices[0], True)\n"
   ]
  },
  {
   "cell_type": "markdown",
   "id": "43bd053e",
   "metadata": {
    "papermill": {
     "duration": 0.001884,
     "end_time": "2023-10-15T15:19:42.273397",
     "exception": false,
     "start_time": "2023-10-15T15:19:42.271513",
     "status": "completed"
    },
    "tags": []
   },
   "source": [
    "# **Data preparation**"
   ]
  },
  {
   "cell_type": "code",
   "execution_count": 3,
   "id": "e8baddb4",
   "metadata": {
    "execution": {
     "iopub.execute_input": "2023-10-15T15:19:42.278855Z",
     "iopub.status.busy": "2023-10-15T15:19:42.277924Z",
     "iopub.status.idle": "2023-10-15T15:19:50.329669Z",
     "shell.execute_reply": "2023-10-15T15:19:50.328780Z"
    },
    "papermill": {
     "duration": 8.056444,
     "end_time": "2023-10-15T15:19:50.331676",
     "exception": false,
     "start_time": "2023-10-15T15:19:42.275232",
     "status": "completed"
    },
    "tags": []
   },
   "outputs": [],
   "source": [
    "# Change the current working directory to '/kaggle/working'\n",
    "os.chdir('/kaggle/working')\n",
    "\n",
    "# Define the source directory where the dataset is located\n",
    "source_directory = '/kaggle/input/catdog-dataset/dogs-and-cats'\n",
    "\n",
    "# Check if a directory named 'dogcat_dataset' does not exist\n",
    "if os.path.isdir('dogcat_dataset') is False:\n",
    "    # If 'dogcat_dataset' does not exist, copy the contents of 'source_directory' to 'dogcat_dataset'\n",
    "    shutil.copytree(source_directory, 'dogcat_dataset')\n"
   ]
  },
  {
   "cell_type": "code",
   "execution_count": 4,
   "id": "65d8a657",
   "metadata": {
    "execution": {
     "iopub.execute_input": "2023-10-15T15:19:50.337261Z",
     "iopub.status.busy": "2023-10-15T15:19:50.336683Z",
     "iopub.status.idle": "2023-10-15T15:19:50.342278Z",
     "shell.execute_reply": "2023-10-15T15:19:50.341482Z"
    },
    "papermill": {
     "duration": 0.010097,
     "end_time": "2023-10-15T15:19:50.343897",
     "exception": false,
     "start_time": "2023-10-15T15:19:50.333800",
     "status": "completed"
    },
    "tags": []
   },
   "outputs": [
    {
     "name": "stdout",
     "output_type": "stream",
     "text": [
      "True\n",
      "True\n",
      "True\n"
     ]
    }
   ],
   "source": [
    "# Define paths for training, validation, and test sets\n",
    "train_path = '/kaggle/working/dogcat_dataset/train'\n",
    "valid_path = '/kaggle/working/dogcat_dataset/valid'\n",
    "test_path = '/kaggle/working/dogcat_dataset/test'\n",
    "\n",
    "# Check if the directories exist and print the results\n",
    "print(os.path.isdir(train_path))  # Check if 'train' directory exists\n",
    "print(os.path.isdir(valid_path))  # Check if 'valid' directory exists\n",
    "print(os.path.isdir(test_path))   # Check if 'test' directory exists\n"
   ]
  },
  {
   "cell_type": "code",
   "execution_count": 5,
   "id": "555504f7",
   "metadata": {
    "execution": {
     "iopub.execute_input": "2023-10-15T15:19:50.349864Z",
     "iopub.status.busy": "2023-10-15T15:19:50.348478Z",
     "iopub.status.idle": "2023-10-15T15:19:50.401089Z",
     "shell.execute_reply": "2023-10-15T15:19:50.400101Z"
    },
    "papermill": {
     "duration": 0.057244,
     "end_time": "2023-10-15T15:19:50.403015",
     "exception": false,
     "start_time": "2023-10-15T15:19:50.345771",
     "status": "completed"
    },
    "tags": []
   },
   "outputs": [
    {
     "name": "stdout",
     "output_type": "stream",
     "text": [
      "Found 2000 images belonging to 2 classes.\n",
      "Found 400 images belonging to 2 classes.\n",
      "Found 200 images belonging to 2 classes.\n"
     ]
    }
   ],
   "source": [
    "# Define ImageDataGenerator and generate batches of images\n",
    "\n",
    "# Training set\n",
    "train_batches = ImageDataGenerator(preprocessing_function=tf.keras.applications.vgg16.preprocess_input) \\\n",
    "    .flow_from_directory(directory=train_path, target_size=(224,224), classes=['cat', 'dog'], batch_size=10)\n",
    "\n",
    "# Validation set\n",
    "valid_batches = ImageDataGenerator(preprocessing_function=tf.keras.applications.vgg16.preprocess_input) \\\n",
    "    .flow_from_directory(directory=valid_path, target_size=(224,224), classes=['cat', 'dog'], batch_size=10)\n",
    "\n",
    "# Test set\n",
    "test_batches = ImageDataGenerator(preprocessing_function=tf.keras.applications.vgg16.preprocess_input) \\\n",
    "    .flow_from_directory(directory=test_path, target_size=(224,224), classes=['cat', 'dog'], batch_size=10, shuffle=False)\n"
   ]
  }
 ],
 "metadata": {
  "kernelspec": {
   "display_name": "Python 3",
   "language": "python",
   "name": "python3"
  },
  "language_info": {
   "codemirror_mode": {
    "name": "ipython",
    "version": 3
   },
   "file_extension": ".py",
   "mimetype": "text/x-python",
   "name": "python",
   "nbconvert_exporter": "python",
   "pygments_lexer": "ipython3",
   "version": "3.10.12"
  },
  "papermill": {
   "default_parameters": {},
   "duration": 23.382731,
   "end_time": "2023-10-15T15:19:52.964624",
   "environment_variables": {},
   "exception": null,
   "input_path": "__notebook__.ipynb",
   "output_path": "__notebook__.ipynb",
   "parameters": {},
   "start_time": "2023-10-15T15:19:29.581893",
   "version": "2.4.0"
  }
 },
 "nbformat": 4,
 "nbformat_minor": 5
}
